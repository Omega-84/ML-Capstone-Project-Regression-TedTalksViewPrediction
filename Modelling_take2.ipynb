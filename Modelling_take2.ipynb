{
  "nbformat": 4,
  "nbformat_minor": 0,
  "metadata": {
    "colab": {
      "name": "Modelling_take2.ipynb",
      "provenance": [],
      "include_colab_link": true
    },
    "kernelspec": {
      "name": "python3",
      "display_name": "Python 3"
    },
    "language_info": {
      "name": "python"
    }
  },
  "cells": [
    {
      "cell_type": "markdown",
      "metadata": {
        "id": "view-in-github",
        "colab_type": "text"
      },
      "source": [
        "<a href=\"https://colab.research.google.com/github/Omega-84/ML-Capstone-Project-Regression-TedTalksViewPrediction/blob/individual/Modelling_take2.ipynb\" target=\"_parent\"><img src=\"https://colab.research.google.com/assets/colab-badge.svg\" alt=\"Open In Colab\"/></a>"
      ]
    },
    {
      "cell_type": "code",
      "metadata": {
        "colab": {
          "base_uri": "https://localhost:8080/"
        },
        "id": "L4_p2zganJsA",
        "outputId": "3a5f6e34-af3c-44df-de81-7bf6a803f55e"
      },
      "source": [
        "from google.colab import drive\n",
        "drive._mount('/content/drive') "
      ],
      "execution_count": null,
      "outputs": [
        {
          "output_type": "stream",
          "name": "stdout",
          "text": [
            "Drive already mounted at /content/drive; to attempt to forcibly remount, call drive.mount(\"/content/drive\", force_remount=True).\n"
          ]
        }
      ]
    },
    {
      "cell_type": "code",
      "metadata": {
        "id": "2Eb1m1CJnSID"
      },
      "source": [
        "import numpy as np\n",
        "import pandas as pd\n",
        "from warnings import filterwarnings\n",
        "import matplotlib.pyplot as plt\n",
        "import seaborn as sns\n",
        "import re\n",
        "from sklearn.model_selection import train_test_split\n",
        "from sklearn.compose import make_column_transformer\n",
        "from sklearn.preprocessing import StandardScaler\n",
        "from sklearn.preprocessing import OneHotEncoder,OrdinalEncoder,LabelEncoder,PolynomialFeatures\n",
        "from sklearn.linear_model import LinearRegression\n",
        "from sklearn.metrics import mean_squared_error\n",
        "from sklearn.impute import KNNImputer\n",
        "from sklearn.pipeline import make_pipeline \n",
        "from xgboost import XGBRegressor,XGBRFRegressor\n",
        "from sklearn.metrics import r2_score \n",
        "from sklearn.feature_extraction.text import TfidfVectorizer\n",
        "from sklearn.decomposition import NMF\n",
        "from sklearn.cluster import KMeans\n",
        "from sklearn.metrics import silhouette_samples, silhouette_score\n",
        "from yellowbrick.cluster import SilhouetteVisualizer\n",
        "!pip install category_encoders\n",
        "from category_encoders import CatBoostEncoder,TargetEncoder\n",
        "from yellowbrick.cluster import KElbowVisualizer\n",
        "filterwarnings(\"ignore\")"
      ],
      "execution_count": null,
      "outputs": []
    },
    {
      "cell_type": "code",
      "metadata": {
        "id": "P46uymvMnXpc"
      },
      "source": [
        "df = pd.read_csv(\"/content/drive/MyDrive/Capstone 3 Regression/Varun/tmp.csv\").drop('Unnamed: 0',axis=1)"
      ],
      "execution_count": null,
      "outputs": []
    },
    {
      "cell_type": "code",
      "metadata": {
        "colab": {
          "base_uri": "https://localhost:8080/",
          "height": 206
        },
        "id": "qt7pyMps34W0",
        "outputId": "ea7b185e-e208-44c1-d500-58c2d26fdfe7"
      },
      "source": [
        "df.head()"
      ],
      "execution_count": null,
      "outputs": [
        {
          "output_type": "execute_result",
          "data": {
            "text/html": [
              "<div>\n",
              "<style scoped>\n",
              "    .dataframe tbody tr th:only-of-type {\n",
              "        vertical-align: middle;\n",
              "    }\n",
              "\n",
              "    .dataframe tbody tr th {\n",
              "        vertical-align: top;\n",
              "    }\n",
              "\n",
              "    .dataframe thead th {\n",
              "        text-align: right;\n",
              "    }\n",
              "</style>\n",
              "<table border=\"1\" class=\"dataframe\">\n",
              "  <thead>\n",
              "    <tr style=\"text-align: right;\">\n",
              "      <th></th>\n",
              "      <th>speaker_1</th>\n",
              "      <th>views</th>\n",
              "      <th>native_lang</th>\n",
              "      <th>comments</th>\n",
              "      <th>duration</th>\n",
              "      <th>no_of_lang</th>\n",
              "      <th>talk_category</th>\n",
              "      <th>event_cat</th>\n",
              "      <th>video_age</th>\n",
              "    </tr>\n",
              "  </thead>\n",
              "  <tbody>\n",
              "    <tr>\n",
              "      <th>0</th>\n",
              "      <td>Al Gore</td>\n",
              "      <td>3523392</td>\n",
              "      <td>en</td>\n",
              "      <td>272.0</td>\n",
              "      <td>16.283333</td>\n",
              "      <td>43</td>\n",
              "      <td>Culture and society</td>\n",
              "      <td>ted</td>\n",
              "      <td>14</td>\n",
              "    </tr>\n",
              "    <tr>\n",
              "      <th>1</th>\n",
              "      <td>Hans Rosling</td>\n",
              "      <td>14501685</td>\n",
              "      <td>en</td>\n",
              "      <td>628.0</td>\n",
              "      <td>19.833333</td>\n",
              "      <td>49</td>\n",
              "      <td>International topics</td>\n",
              "      <td>ted</td>\n",
              "      <td>14</td>\n",
              "    </tr>\n",
              "    <tr>\n",
              "      <th>2</th>\n",
              "      <td>David Pogue</td>\n",
              "      <td>1920832</td>\n",
              "      <td>en</td>\n",
              "      <td>124.0</td>\n",
              "      <td>21.433333</td>\n",
              "      <td>26</td>\n",
              "      <td>Culture and society</td>\n",
              "      <td>ted</td>\n",
              "      <td>14</td>\n",
              "    </tr>\n",
              "    <tr>\n",
              "      <th>3</th>\n",
              "      <td>Majora Carter</td>\n",
              "      <td>2664069</td>\n",
              "      <td>en</td>\n",
              "      <td>219.0</td>\n",
              "      <td>18.600000</td>\n",
              "      <td>35</td>\n",
              "      <td>Climate change</td>\n",
              "      <td>ted</td>\n",
              "      <td>14</td>\n",
              "    </tr>\n",
              "    <tr>\n",
              "      <th>4</th>\n",
              "      <td>Sir Ken Robinson</td>\n",
              "      <td>65051954</td>\n",
              "      <td>en</td>\n",
              "      <td>4931.0</td>\n",
              "      <td>19.400000</td>\n",
              "      <td>62</td>\n",
              "      <td>Finance and economics</td>\n",
              "      <td>ted</td>\n",
              "      <td>14</td>\n",
              "    </tr>\n",
              "  </tbody>\n",
              "</table>\n",
              "</div>"
            ],
            "text/plain": [
              "          speaker_1     views  ... event_cat  video_age\n",
              "0           Al Gore   3523392  ...       ted         14\n",
              "1      Hans Rosling  14501685  ...       ted         14\n",
              "2       David Pogue   1920832  ...       ted         14\n",
              "3     Majora Carter   2664069  ...       ted         14\n",
              "4  Sir Ken Robinson  65051954  ...       ted         14\n",
              "\n",
              "[5 rows x 9 columns]"
            ]
          },
          "metadata": {},
          "execution_count": 89
        }
      ]
    },
    {
      "cell_type": "code",
      "metadata": {
        "colab": {
          "base_uri": "https://localhost:8080/",
          "height": 351
        },
        "id": "xW6KIxdhoYUZ",
        "outputId": "dc0da8c8-d27b-46c4-8ff7-6206329ec6e3"
      },
      "source": [
        "sns.heatmap(df.corr(),annot=True,cmap='Blues');"
      ],
      "execution_count": null,
      "outputs": [
        {
          "output_type": "display_data",
          "data": {
            "image/png": "[encoded data removed]",
            "text/plain": [
              "<Figure size 576x396 with 2 Axes>"
            ]
          },
          "metadata": {}
        }
      ]
    },
    {
      "cell_type": "code",
      "metadata": {
        "id": "bA9Rav-tXDOw"
      },
      "source": [
        "count_df = pd.DataFrame(df['speaker_1'].value_counts()).reset_index()\n",
        "count_df['frequency'] = count_df['speaker_1']/len(df)"
      ],
      "execution_count": null,
      "outputs": []
    },
    {
      "cell_type": "code",
      "metadata": {
        "colab": {
          "base_uri": "https://localhost:8080/",
          "height": 423
        },
        "id": "mABohrO1XyPk",
        "outputId": "dd926446-d4f3-4c75-cd78-027633cacb02"
      },
      "source": [
        "df = df.merge(count_df,how='inner',left_on='speaker_1',right_on='index')\n",
        "df"
      ],
      "execution_count": null,
      "outputs": [
        {
          "output_type": "execute_result",
          "data": {
            "text/html": [
              "<div>\n",
              "<style scoped>\n",
              "    .dataframe tbody tr th:only-of-type {\n",
              "        vertical-align: middle;\n",
              "    }\n",
              "\n",
              "    .dataframe tbody tr th {\n",
              "        vertical-align: top;\n",
              "    }\n",
              "\n",
              "    .dataframe thead th {\n",
              "        text-align: right;\n",
              "    }\n",
              "</style>\n",
              "<table border=\"1\" class=\"dataframe\">\n",
              "  <thead>\n",
              "    <tr style=\"text-align: right;\">\n",
              "      <th></th>\n",
              "      <th>speaker_1_x</th>\n",
              "      <th>views</th>\n",
              "      <th>native_lang</th>\n",
              "      <th>comments</th>\n",
              "      <th>duration</th>\n",
              "      <th>no_of_lang</th>\n",
              "      <th>talk_category</th>\n",
              "      <th>event_cat</th>\n",
              "      <th>video_age</th>\n",
              "      <th>index</th>\n",
              "      <th>speaker_1_y</th>\n",
              "      <th>frequency</th>\n",
              "    </tr>\n",
              "  </thead>\n",
              "  <tbody>\n",
              "    <tr>\n",
              "      <th>0</th>\n",
              "      <td>Al Gore</td>\n",
              "      <td>3523392</td>\n",
              "      <td>en</td>\n",
              "      <td>272.0</td>\n",
              "      <td>16.283333</td>\n",
              "      <td>43</td>\n",
              "      <td>Culture and society</td>\n",
              "      <td>ted</td>\n",
              "      <td>14</td>\n",
              "      <td>Al Gore</td>\n",
              "      <td>4</td>\n",
              "      <td>0.000999</td>\n",
              "    </tr>\n",
              "    <tr>\n",
              "      <th>1</th>\n",
              "      <td>Al Gore</td>\n",
              "      <td>2187523</td>\n",
              "      <td>en</td>\n",
              "      <td>672.0</td>\n",
              "      <td>27.900000</td>\n",
              "      <td>44</td>\n",
              "      <td>International topics</td>\n",
              "      <td>ted</td>\n",
              "      <td>12</td>\n",
              "      <td>Al Gore</td>\n",
              "      <td>4</td>\n",
              "      <td>0.000999</td>\n",
              "    </tr>\n",
              "    <tr>\n",
              "      <th>2</th>\n",
              "      <td>Al Gore</td>\n",
              "      <td>961451</td>\n",
              "      <td>en</td>\n",
              "      <td>862.0</td>\n",
              "      <td>7.733333</td>\n",
              "      <td>47</td>\n",
              "      <td>Science, technology and innovation</td>\n",
              "      <td>ted</td>\n",
              "      <td>11</td>\n",
              "      <td>Al Gore</td>\n",
              "      <td>4</td>\n",
              "      <td>0.000999</td>\n",
              "    </tr>\n",
              "    <tr>\n",
              "      <th>3</th>\n",
              "      <td>Al Gore</td>\n",
              "      <td>2090031</td>\n",
              "      <td>en</td>\n",
              "      <td>624.0</td>\n",
              "      <td>25.333333</td>\n",
              "      <td>27</td>\n",
              "      <td>International topics</td>\n",
              "      <td>ted</td>\n",
              "      <td>4</td>\n",
              "      <td>Al Gore</td>\n",
              "      <td>4</td>\n",
              "      <td>0.000999</td>\n",
              "    </tr>\n",
              "    <tr>\n",
              "      <th>4</th>\n",
              "      <td>Hans Rosling</td>\n",
              "      <td>14501685</td>\n",
              "      <td>en</td>\n",
              "      <td>628.0</td>\n",
              "      <td>19.833333</td>\n",
              "      <td>49</td>\n",
              "      <td>International topics</td>\n",
              "      <td>ted</td>\n",
              "      <td>14</td>\n",
              "      <td>Hans Rosling</td>\n",
              "      <td>10</td>\n",
              "      <td>0.002497</td>\n",
              "    </tr>\n",
              "    <tr>\n",
              "      <th>...</th>\n",
              "      <td>...</td>\n",
              "      <td>...</td>\n",
              "      <td>...</td>\n",
              "      <td>...</td>\n",
              "      <td>...</td>\n",
              "      <td>...</td>\n",
              "      <td>...</td>\n",
              "      <td>...</td>\n",
              "      <td>...</td>\n",
              "      <td>...</td>\n",
              "      <td>...</td>\n",
              "      <td>...</td>\n",
              "    </tr>\n",
              "    <tr>\n",
              "      <th>4000</th>\n",
              "      <td>Artūrs Miksons</td>\n",
              "      <td>112898</td>\n",
              "      <td>en</td>\n",
              "      <td>NaN</td>\n",
              "      <td>15.533333</td>\n",
              "      <td>3</td>\n",
              "      <td>Culture and society</td>\n",
              "      <td>ted-x</td>\n",
              "      <td>0</td>\n",
              "      <td>Artūrs Miksons</td>\n",
              "      <td>1</td>\n",
              "      <td>0.000250</td>\n",
              "    </tr>\n",
              "    <tr>\n",
              "      <th>4001</th>\n",
              "      <td>Stefan C Dombrowski</td>\n",
              "      <td>307187</td>\n",
              "      <td>en</td>\n",
              "      <td>NaN</td>\n",
              "      <td>5.766667</td>\n",
              "      <td>4</td>\n",
              "      <td>Finance and economics</td>\n",
              "      <td>ted</td>\n",
              "      <td>0</td>\n",
              "      <td>Stefan C Dombrowski</td>\n",
              "      <td>1</td>\n",
              "      <td>0.000250</td>\n",
              "    </tr>\n",
              "    <tr>\n",
              "      <th>4002</th>\n",
              "      <td>Dick M. Carpenter II</td>\n",
              "      <td>464414</td>\n",
              "      <td>en</td>\n",
              "      <td>9.0</td>\n",
              "      <td>12.900000</td>\n",
              "      <td>1</td>\n",
              "      <td>International topics</td>\n",
              "      <td>ted-x</td>\n",
              "      <td>0</td>\n",
              "      <td>Dick M. Carpenter II</td>\n",
              "      <td>1</td>\n",
              "      <td>0.000250</td>\n",
              "    </tr>\n",
              "    <tr>\n",
              "      <th>4003</th>\n",
              "      <td>Daina Ramey Berry</td>\n",
              "      <td>56582</td>\n",
              "      <td>en</td>\n",
              "      <td>NaN</td>\n",
              "      <td>4.283333</td>\n",
              "      <td>1</td>\n",
              "      <td>Social issues</td>\n",
              "      <td>ted</td>\n",
              "      <td>0</td>\n",
              "      <td>Daina Ramey Berry</td>\n",
              "      <td>1</td>\n",
              "      <td>0.000250</td>\n",
              "    </tr>\n",
              "    <tr>\n",
              "      <th>4004</th>\n",
              "      <td>Cella Wright</td>\n",
              "      <td>0</td>\n",
              "      <td>en</td>\n",
              "      <td>NaN</td>\n",
              "      <td>4.683333</td>\n",
              "      <td>1</td>\n",
              "      <td>Science, technology and innovation</td>\n",
              "      <td>ted</td>\n",
              "      <td>0</td>\n",
              "      <td>Cella Wright</td>\n",
              "      <td>1</td>\n",
              "      <td>0.000250</td>\n",
              "    </tr>\n",
              "  </tbody>\n",
              "</table>\n",
              "<p>4005 rows × 12 columns</p>\n",
              "</div>"
            ],
            "text/plain": [
              "               speaker_1_x     views  ... speaker_1_y  frequency\n",
              "0                  Al Gore   3523392  ...           4   0.000999\n",
              "1                  Al Gore   2187523  ...           4   0.000999\n",
              "2                  Al Gore    961451  ...           4   0.000999\n",
              "3                  Al Gore   2090031  ...           4   0.000999\n",
              "4             Hans Rosling  14501685  ...          10   0.002497\n",
              "...                    ...       ...  ...         ...        ...\n",
              "4000        Artūrs Miksons    112898  ...           1   0.000250\n",
              "4001   Stefan C Dombrowski    307187  ...           1   0.000250\n",
              "4002  Dick M. Carpenter II    464414  ...           1   0.000250\n",
              "4003     Daina Ramey Berry     56582  ...           1   0.000250\n",
              "4004          Cella Wright         0  ...           1   0.000250\n",
              "\n",
              "[4005 rows x 12 columns]"
            ]
          },
          "metadata": {},
          "execution_count": 73
        }
      ]
    },
    {
      "cell_type": "code",
      "metadata": {
        "id": "ZPO-5_0FYIge"
      },
      "source": [
        "df.drop(['speaker_1_x','index','speaker_1_y'],axis=1,inplace=True)"
      ],
      "execution_count": null,
      "outputs": []
    },
    {
      "cell_type": "code",
      "metadata": {
        "id": "AC7yvPVSoKbB"
      },
      "source": [
        "num_cols = ['views','duration','comments','no_of_lang','video_age','frequency']"
      ],
      "execution_count": null,
      "outputs": []
    },
    {
      "cell_type": "code",
      "metadata": {
        "id": "LAY3cb4EoMVP"
      },
      "source": [
        "for i in num_cols:\n",
        "  Q1 = df[i].quantile(0.25)\n",
        "  Q3 = df[i].quantile(0.75)\n",
        "  IQR = Q3 - Q1\n",
        "\n",
        "  df[i]=np.where(df[i]<(Q1 - 1.5 * IQR),df[i].quantile(0.15),np.where(df[i]>(Q3 + 1.5 * IQR),df[i].quantile(0.9),df[i]))"
      ],
      "execution_count": null,
      "outputs": []
    },
    {
      "cell_type": "code",
      "metadata": {
        "id": "MIaI39juolPD"
      },
      "source": [
        "X = df.drop('views',axis=1)\n",
        "y = df['views'].apply(lambda x : np.log10(x) if x != 0 else 1)"
      ],
      "execution_count": null,
      "outputs": []
    },
    {
      "cell_type": "code",
      "metadata": {
        "id": "hp2eIM2GolRo"
      },
      "source": [
        "X_train, X_test, y_train, y_test = train_test_split(X, y, test_size=0.2, random_state=42)"
      ],
      "execution_count": null,
      "outputs": []
    },
    {
      "cell_type": "code",
      "metadata": {
        "id": "sf_CjQWooz8X"
      },
      "source": [
        "numeric_cols = ['comments','duration','no_of_lang','video_age']\n",
        "ohe_cols = ['native_lang','talk_category','event_cat']"
      ],
      "execution_count": null,
      "outputs": []
    },
    {
      "cell_type": "code",
      "metadata": {
        "id": "UODNAKSobzIJ"
      },
      "source": [
        "def CustomSampler_IQR (X, y):\n",
        "    \n",
        "    features = numeric_cols\n",
        "    df = X.copy()\n",
        "    df['Outcome'] = y\n",
        "    \n",
        "    indices = [x for x in df.index]    \n",
        "    out_indexlist = []\n",
        "        \n",
        "    for col in features:\n",
        "       \n",
        "        #Using nanpercentile instead of percentile because of nan values\n",
        "        Q1 = np.nanpercentile(df[col], 25.)\n",
        "        Q3 = np.nanpercentile(df[col], 75.)\n",
        "        \n",
        "        cut_off = (Q3 - Q1) * 1.5\n",
        "        upper, lower = Q3 + cut_off, Q1 - cut_off\n",
        "                \n",
        "        outliers_index = df[col][(df[col] < lower) | (df[col] > upper)].index.tolist()\n",
        "        outliers = df[col][(df[col] < lower) | (df[col] > upper)].values        \n",
        "        out_indexlist.extend(outliers_index)\n",
        "        \n",
        "    #using set to remove duplicates\n",
        "    out_indexlist = list(set(out_indexlist))\n",
        "    \n",
        "    clean_data = np.setdiff1d(indices,out_indexlist)\n",
        "\n",
        "    return X.loc[clean_data], y.loc[clean_data]"
      ],
      "execution_count": null,
      "outputs": []
    },
    {
      "cell_type": "code",
      "metadata": {
        "id": "meLfPVB9b7JY"
      },
      "source": [
        "X_train,y_train = CustomSampler_IQR(X_train,y_train)\n",
        "X_test,y_test = CustomSampler_IQR(X_test,y_test)"
      ],
      "execution_count": null,
      "outputs": []
    },
    {
      "cell_type": "code",
      "metadata": {
        "id": "9j1nmSOZniZ3"
      },
      "source": [
        "encoder=TargetEncoder(cols=['speaker_1'])\n",
        "encoded_train = encoder.fit_transform(X_train['speaker_1'],y_train).values\n",
        "X_train['speaker_1'] = encoded_train \n",
        "encoded_test = encoder.transform(X_test['speaker_1'],y_test).values\n",
        "X_test['speaker_1'] = encoded_test"
      ],
      "execution_count": null,
      "outputs": []
    },
    {
      "cell_type": "code",
      "metadata": {
        "id": "o4hL-Lueo8eK"
      },
      "source": [
        "scaler = StandardScaler()\n",
        "ohe = OneHotEncoder()\n",
        "imputer = KNNImputer()"
      ],
      "execution_count": null,
      "outputs": []
    },
    {
      "cell_type": "code",
      "metadata": {
        "id": "PHJNP_UAolUg"
      },
      "source": [
        "ct = make_column_transformer((imputer,['comments']),\n",
        "                             (scaler,numeric_cols ),                                                                                      \n",
        "                             (ohe,ohe_cols),                           \n",
        "                             remainder='passthrough',\n",
        "                             )\n",
        "pipe = make_pipeline(ct)"
      ],
      "execution_count": null,
      "outputs": []
    },
    {
      "cell_type": "code",
      "metadata": {
        "id": "K1VXTOT2olW_"
      },
      "source": [
        "X_train = pipe.fit_transform(X_train)\n",
        "X_test = pipe.transform(X_test)"
      ],
      "execution_count": null,
      "outputs": []
    },
    {
      "cell_type": "code",
      "metadata": {
        "id": "JfEboC0EqFpA"
      },
      "source": [
        "xgb_reg = XGBRegressor(n_jobs=-1)"
      ],
      "execution_count": null,
      "outputs": []
    },
    {
      "cell_type": "code",
      "metadata": {
        "colab": {
          "base_uri": "https://localhost:8080/"
        },
        "id": "xQMf2OTholbP",
        "outputId": "a3dd31ad-f52d-4c6a-d5ed-1a1e897121fb"
      },
      "source": [
        "xgb_reg.fit(X_train,y_train)"
      ],
      "execution_count": null,
      "outputs": [
        {
          "output_type": "stream",
          "name": "stdout",
          "text": [
            "[14:28:49] WARNING: /workspace/src/objective/regression_obj.cu:152: reg:linear is now deprecated in favor of reg:squarederror.\n"
          ]
        },
        {
          "output_type": "execute_result",
          "data": {
            "text/plain": [
              "XGBRegressor(n_jobs=-1)"
            ]
          },
          "metadata": {},
          "execution_count": 84
        }
      ]
    },
    {
      "cell_type": "code",
      "metadata": {
        "colab": {
          "base_uri": "https://localhost:8080/"
        },
        "id": "iN3-w4wI2SN0",
        "outputId": "26322992-bd55-4ad8-b7b2-a22b854b66b8"
      },
      "source": [
        "r2_score(10**y_train,10**xgb_reg.predict(X_train))"
      ],
      "execution_count": null,
      "outputs": [
        {
          "output_type": "execute_result",
          "data": {
            "text/plain": [
              "0.5130866041036424"
            ]
          },
          "metadata": {},
          "execution_count": 85
        }
      ]
    },
    {
      "cell_type": "code",
      "metadata": {
        "colab": {
          "base_uri": "https://localhost:8080/"
        },
        "id": "Ow_lSwIi2Xbg",
        "outputId": "4d6804ce-e696-4a84-9f96-77106cc211e4"
      },
      "source": [
        "r2_score(10**y_test,10**xgb_reg.predict(X_test))"
      ],
      "execution_count": null,
      "outputs": [
        {
          "output_type": "execute_result",
          "data": {
            "text/plain": [
              "0.4372990677288996"
            ]
          },
          "metadata": {},
          "execution_count": 86
        }
      ]
    },
    {
      "cell_type": "code",
      "metadata": {
        "id": "POQkiHrCbkAN"
      },
      "source": [
        "from lightgbm import LGBMRegressor "
      ],
      "execution_count": null,
      "outputs": []
    },
    {
      "cell_type": "code",
      "metadata": {
        "colab": {
          "base_uri": "https://localhost:8080/",
          "height": 328
        },
        "id": "v_b8arvRdQ41",
        "outputId": "6f16a5a9-7bf3-4c8f-ee6a-1861ed7a94fc"
      },
      "source": [
        "lgbm = LGBMRegressor()\n",
        "lgbm.fit(X_train,y_train)"
      ],
      "execution_count": null,
      "outputs": [
        {
          "output_type": "error",
          "ename": "ValueError",
          "evalue": "ignored",
          "traceback": [
            "\u001b[0;31m---------------------------------------------------------------------------\u001b[0m",
            "\u001b[0;31mValueError\u001b[0m                                Traceback (most recent call last)",
            "\u001b[0;32m<ipython-input-99-4aac468a75be>\u001b[0m in \u001b[0;36m<module>\u001b[0;34m()\u001b[0m\n\u001b[1;32m      1\u001b[0m \u001b[0mlgbm\u001b[0m \u001b[0;34m=\u001b[0m \u001b[0mLGBMRegressor\u001b[0m\u001b[0;34m(\u001b[0m\u001b[0;34m)\u001b[0m\u001b[0;34m\u001b[0m\u001b[0;34m\u001b[0m\u001b[0m\n\u001b[0;32m----> 2\u001b[0;31m \u001b[0mlgbm\u001b[0m\u001b[0;34m.\u001b[0m\u001b[0mfit\u001b[0m\u001b[0;34m(\u001b[0m\u001b[0mX_train\u001b[0m\u001b[0;34m,\u001b[0m\u001b[0my_train\u001b[0m\u001b[0;34m)\u001b[0m\u001b[0;34m\u001b[0m\u001b[0;34m\u001b[0m\u001b[0m\n\u001b[0m",
            "\u001b[0;32m/usr/local/lib/python3.7/dist-packages/lightgbm/sklearn.py\u001b[0m in \u001b[0;36mfit\u001b[0;34m(self, X, y, sample_weight, init_score, eval_set, eval_names, eval_sample_weight, eval_init_score, eval_metric, early_stopping_rounds, verbose, feature_name, categorical_feature, callbacks)\u001b[0m\n\u001b[1;32m    683\u001b[0m                                        \u001b[0mverbose\u001b[0m\u001b[0;34m=\u001b[0m\u001b[0mverbose\u001b[0m\u001b[0;34m,\u001b[0m \u001b[0mfeature_name\u001b[0m\u001b[0;34m=\u001b[0m\u001b[0mfeature_name\u001b[0m\u001b[0;34m,\u001b[0m\u001b[0;34m\u001b[0m\u001b[0;34m\u001b[0m\u001b[0m\n\u001b[1;32m    684\u001b[0m                                        \u001b[0mcategorical_feature\u001b[0m\u001b[0;34m=\u001b[0m\u001b[0mcategorical_feature\u001b[0m\u001b[0;34m,\u001b[0m\u001b[0;34m\u001b[0m\u001b[0;34m\u001b[0m\u001b[0m\n\u001b[0;32m--> 685\u001b[0;31m                                        callbacks=callbacks)\n\u001b[0m\u001b[1;32m    686\u001b[0m         \u001b[0;32mreturn\u001b[0m \u001b[0mself\u001b[0m\u001b[0;34m\u001b[0m\u001b[0;34m\u001b[0m\u001b[0m\n\u001b[1;32m    687\u001b[0m \u001b[0;34m\u001b[0m\u001b[0m\n",
            "\u001b[0;32m/usr/local/lib/python3.7/dist-packages/lightgbm/sklearn.py\u001b[0m in \u001b[0;36mfit\u001b[0;34m(self, X, y, sample_weight, init_score, group, eval_set, eval_names, eval_sample_weight, eval_class_weight, eval_init_score, eval_group, eval_metric, early_stopping_rounds, verbose, feature_name, categorical_feature, callbacks)\u001b[0m\n\u001b[1;32m    481\u001b[0m \u001b[0;34m\u001b[0m\u001b[0m\n\u001b[1;32m    482\u001b[0m         \u001b[0;32mif\u001b[0m \u001b[0;32mnot\u001b[0m \u001b[0misinstance\u001b[0m\u001b[0;34m(\u001b[0m\u001b[0mX\u001b[0m\u001b[0;34m,\u001b[0m \u001b[0;34m(\u001b[0m\u001b[0mDataFrame\u001b[0m\u001b[0;34m,\u001b[0m \u001b[0mDataTable\u001b[0m\u001b[0;34m)\u001b[0m\u001b[0;34m)\u001b[0m\u001b[0;34m:\u001b[0m\u001b[0;34m\u001b[0m\u001b[0;34m\u001b[0m\u001b[0m\n\u001b[0;32m--> 483\u001b[0;31m             \u001b[0m_X\u001b[0m\u001b[0;34m,\u001b[0m \u001b[0m_y\u001b[0m \u001b[0;34m=\u001b[0m \u001b[0m_LGBMCheckXY\u001b[0m\u001b[0;34m(\u001b[0m\u001b[0mX\u001b[0m\u001b[0;34m,\u001b[0m \u001b[0my\u001b[0m\u001b[0;34m,\u001b[0m \u001b[0maccept_sparse\u001b[0m\u001b[0;34m=\u001b[0m\u001b[0;32mTrue\u001b[0m\u001b[0;34m,\u001b[0m \u001b[0mforce_all_finite\u001b[0m\u001b[0;34m=\u001b[0m\u001b[0;32mFalse\u001b[0m\u001b[0;34m,\u001b[0m \u001b[0mensure_min_samples\u001b[0m\u001b[0;34m=\u001b[0m\u001b[0;36m2\u001b[0m\u001b[0;34m)\u001b[0m\u001b[0;34m\u001b[0m\u001b[0;34m\u001b[0m\u001b[0m\n\u001b[0m\u001b[1;32m    484\u001b[0m             \u001b[0m_LGBMCheckConsistentLength\u001b[0m\u001b[0;34m(\u001b[0m\u001b[0m_X\u001b[0m\u001b[0;34m,\u001b[0m \u001b[0m_y\u001b[0m\u001b[0;34m,\u001b[0m \u001b[0msample_weight\u001b[0m\u001b[0;34m)\u001b[0m\u001b[0;34m\u001b[0m\u001b[0;34m\u001b[0m\u001b[0m\n\u001b[1;32m    485\u001b[0m         \u001b[0;32melse\u001b[0m\u001b[0;34m:\u001b[0m\u001b[0;34m\u001b[0m\u001b[0;34m\u001b[0m\u001b[0m\n",
            "\u001b[0;32m/usr/local/lib/python3.7/dist-packages/sklearn/utils/validation.py\u001b[0m in \u001b[0;36mcheck_X_y\u001b[0;34m(X, y, accept_sparse, accept_large_sparse, dtype, order, copy, force_all_finite, ensure_2d, allow_nd, multi_output, ensure_min_samples, ensure_min_features, y_numeric, estimator)\u001b[0m\n\u001b[1;32m    966\u001b[0m         \u001b[0mensure_min_samples\u001b[0m\u001b[0;34m=\u001b[0m\u001b[0mensure_min_samples\u001b[0m\u001b[0;34m,\u001b[0m\u001b[0;34m\u001b[0m\u001b[0;34m\u001b[0m\u001b[0m\n\u001b[1;32m    967\u001b[0m         \u001b[0mensure_min_features\u001b[0m\u001b[0;34m=\u001b[0m\u001b[0mensure_min_features\u001b[0m\u001b[0;34m,\u001b[0m\u001b[0;34m\u001b[0m\u001b[0;34m\u001b[0m\u001b[0m\n\u001b[0;32m--> 968\u001b[0;31m         \u001b[0mestimator\u001b[0m\u001b[0;34m=\u001b[0m\u001b[0mestimator\u001b[0m\u001b[0;34m,\u001b[0m\u001b[0;34m\u001b[0m\u001b[0;34m\u001b[0m\u001b[0m\n\u001b[0m\u001b[1;32m    969\u001b[0m     )\n\u001b[1;32m    970\u001b[0m \u001b[0;34m\u001b[0m\u001b[0m\n",
            "\u001b[0;32m/usr/local/lib/python3.7/dist-packages/sklearn/utils/validation.py\u001b[0m in \u001b[0;36mcheck_array\u001b[0;34m(array, accept_sparse, accept_large_sparse, dtype, order, copy, force_all_finite, ensure_2d, allow_nd, ensure_min_samples, ensure_min_features, estimator)\u001b[0m\n\u001b[1;32m    736\u001b[0m                     \u001b[0marray\u001b[0m \u001b[0;34m=\u001b[0m \u001b[0marray\u001b[0m\u001b[0;34m.\u001b[0m\u001b[0mastype\u001b[0m\u001b[0;34m(\u001b[0m\u001b[0mdtype\u001b[0m\u001b[0;34m,\u001b[0m \u001b[0mcasting\u001b[0m\u001b[0;34m=\u001b[0m\u001b[0;34m\"unsafe\"\u001b[0m\u001b[0;34m,\u001b[0m \u001b[0mcopy\u001b[0m\u001b[0;34m=\u001b[0m\u001b[0;32mFalse\u001b[0m\u001b[0;34m)\u001b[0m\u001b[0;34m\u001b[0m\u001b[0;34m\u001b[0m\u001b[0m\n\u001b[1;32m    737\u001b[0m                 \u001b[0;32melse\u001b[0m\u001b[0;34m:\u001b[0m\u001b[0;34m\u001b[0m\u001b[0;34m\u001b[0m\u001b[0m\n\u001b[0;32m--> 738\u001b[0;31m                     \u001b[0marray\u001b[0m \u001b[0;34m=\u001b[0m \u001b[0mnp\u001b[0m\u001b[0;34m.\u001b[0m\u001b[0masarray\u001b[0m\u001b[0;34m(\u001b[0m\u001b[0marray\u001b[0m\u001b[0;34m,\u001b[0m \u001b[0morder\u001b[0m\u001b[0;34m=\u001b[0m\u001b[0morder\u001b[0m\u001b[0;34m,\u001b[0m \u001b[0mdtype\u001b[0m\u001b[0;34m=\u001b[0m\u001b[0mdtype\u001b[0m\u001b[0;34m)\u001b[0m\u001b[0;34m\u001b[0m\u001b[0;34m\u001b[0m\u001b[0m\n\u001b[0m\u001b[1;32m    739\u001b[0m             \u001b[0;32mexcept\u001b[0m \u001b[0mComplexWarning\u001b[0m \u001b[0;32mas\u001b[0m \u001b[0mcomplex_warning\u001b[0m\u001b[0;34m:\u001b[0m\u001b[0;34m\u001b[0m\u001b[0;34m\u001b[0m\u001b[0m\n\u001b[1;32m    740\u001b[0m                 raise ValueError(\n",
            "\u001b[0;32m/usr/local/lib/python3.7/dist-packages/numpy/core/_asarray.py\u001b[0m in \u001b[0;36masarray\u001b[0;34m(a, dtype, order)\u001b[0m\n\u001b[1;32m     81\u001b[0m \u001b[0;34m\u001b[0m\u001b[0m\n\u001b[1;32m     82\u001b[0m     \"\"\"\n\u001b[0;32m---> 83\u001b[0;31m     \u001b[0;32mreturn\u001b[0m \u001b[0marray\u001b[0m\u001b[0;34m(\u001b[0m\u001b[0ma\u001b[0m\u001b[0;34m,\u001b[0m \u001b[0mdtype\u001b[0m\u001b[0;34m,\u001b[0m \u001b[0mcopy\u001b[0m\u001b[0;34m=\u001b[0m\u001b[0;32mFalse\u001b[0m\u001b[0;34m,\u001b[0m \u001b[0morder\u001b[0m\u001b[0;34m=\u001b[0m\u001b[0morder\u001b[0m\u001b[0;34m)\u001b[0m\u001b[0;34m\u001b[0m\u001b[0;34m\u001b[0m\u001b[0m\n\u001b[0m\u001b[1;32m     84\u001b[0m \u001b[0;34m\u001b[0m\u001b[0m\n\u001b[1;32m     85\u001b[0m \u001b[0;34m\u001b[0m\u001b[0m\n",
            "\u001b[0;31mValueError\u001b[0m: could not convert string to float: 'Shubhendu Sharma'"
          ]
        }
      ]
    },
    {
      "cell_type": "code",
      "metadata": {
        "id": "yOCvuMLFdlab"
      },
      "source": [
        ""
      ],
      "execution_count": null,
      "outputs": []
    }
  ]
}